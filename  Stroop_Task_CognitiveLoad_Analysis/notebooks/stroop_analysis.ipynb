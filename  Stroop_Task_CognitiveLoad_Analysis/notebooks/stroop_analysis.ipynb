{
 "cells": [
  {
   "cell_type": "markdown",
   "id": "e0e5a508",
   "metadata": {},
   "source": [
    "\n",
    "# Stroop Task Analysis"
   ]
  },
  {
   "cell_type": "markdown",
   "id": "17defae8",
   "metadata": {},
   "source": [
    "### The Stroop task is a widely known experiment used to measure cognitive control by showing how the brain resolves conflict between competing sources of information.\n",
    "#### This task is important to Cognitive Neuroscience since it provides a behavioural window into \n",
    "- inhibitory control (suppressing the urge to read the word), \n",
    "- selective attention (forcusing on the colour, ignoring the meaning) and \n",
    "- cognitive flexibility (switching between automatic and controlled responses, system 1 and 2, for those who have read Daniel Kahneman)\n",
    "\n",
    "##### Research using fMRI has shown that the anterior cingulate cortex is primarily involved in conflicting information management, while the dorsolateral prefrontal cortex is associated with implementing cognitive control to resolve this conflict (Kerns et al., 2004). Likewise,EEG has been used to show that midfrontal theta oscillations of 4-8Hz occurred in the anterior cingulate cortex during incongruent trials, further supporting the role of this brain region during conflicting information management (Krebs et al., 2013)\n",
    "\n",
    "\n",
    "\n",
    "#### Experimental Design: \n",
    "- Data set: this dataset was sourced from GitHub, https://github.com/Lakens/Stroop/blob/master/stroop.csv and made available by Daniel Lakens, a psychology researcher and open science advocate \n",
    "(The data used in this experiment was created for educational purposes and collected from Psychology stuents. The data was collected from the self reported time from participants after completing  a block of trials.)\n",
    "\n",
    "- It is a within Subjects dataset, meaning participants completed both conditions (with each row representing the participants reaction time for each condition)\n",
    "    - Congruent trial condition: the colour of the word matches the meaning\n",
    "    - Incongruent trial condition: the colour of the word doesn't match the meaning\n",
    "\n",
    "\n",
    "#### The Analysis in this notebook\n",
    "- Within-subjects comparison: a paired T-Test will be conducted (due to the paired nature of the data)\n",
    "- "
   ]
  },
  {
   "cell_type": "markdown",
   "id": "2edd061f",
   "metadata": {},
   "source": [
    "# Data Analysis\n",
    "\n",
    "1. Import required libraries and load and explore dataset"
   ]
  },
  {
   "cell_type": "code",
   "execution_count": 5,
   "id": "98a69a08",
   "metadata": {},
   "outputs": [],
   "source": [
    "# Import core libraries for data manipulation, visualization, and statistics\n",
    "import pandas as pd  # For handling data tables\n",
    "import matplotlib.pyplot as plt  # For creating plots\n",
    "import seaborn as sns  # For prettier statistical graphics\n",
    "from scipy import stats  # For statistical tests like the t-test\n",
    "\n",
    "# Apply a clean style to plots\n",
    "sns.set(style=\"whitegrid\")"
   ]
  },
  {
   "cell_type": "code",
   "execution_count": 17,
   "id": "f30d3e79",
   "metadata": {},
   "outputs": [
    {
     "name": "stderr",
     "output_type": "stream",
     "text": [
      "/var/folders/z3/smzjm1wn7sdbw5trxnn2tfjr0000gn/T/ipykernel_3972/2672630782.py:2: FutureWarning: The 'delim_whitespace' keyword in pd.read_csv is deprecated and will be removed in a future version. Use ``sep='\\s+'`` instead\n",
      "  df = pd.read_csv('../data/stroop.csv', delim_whitespace=True)\n"
     ]
    },
    {
     "data": {
      "text/html": [
       "<div>\n",
       "<style scoped>\n",
       "    .dataframe tbody tr th:only-of-type {\n",
       "        vertical-align: middle;\n",
       "    }\n",
       "\n",
       "    .dataframe tbody tr th {\n",
       "        vertical-align: top;\n",
       "    }\n",
       "\n",
       "    .dataframe thead th {\n",
       "        text-align: right;\n",
       "    }\n",
       "</style>\n",
       "<table border=\"1\" class=\"dataframe\">\n",
       "  <thead>\n",
       "    <tr style=\"text-align: right;\">\n",
       "      <th></th>\n",
       "      <th>PPNR</th>\n",
       "      <th>Congruent</th>\n",
       "      <th>Incongruent</th>\n",
       "      <th>Year</th>\n",
       "    </tr>\n",
       "  </thead>\n",
       "  <tbody>\n",
       "    <tr>\n",
       "      <th>0</th>\n",
       "      <td>1</td>\n",
       "      <td>21.871</td>\n",
       "      <td>21.974</td>\n",
       "      <td>2013</td>\n",
       "    </tr>\n",
       "    <tr>\n",
       "      <th>1</th>\n",
       "      <td>2</td>\n",
       "      <td>22.820</td>\n",
       "      <td>25.116</td>\n",
       "      <td>2013</td>\n",
       "    </tr>\n",
       "    <tr>\n",
       "      <th>2</th>\n",
       "      <td>3</td>\n",
       "      <td>14.810</td>\n",
       "      <td>18.500</td>\n",
       "      <td>2013</td>\n",
       "    </tr>\n",
       "    <tr>\n",
       "      <th>3</th>\n",
       "      <td>4</td>\n",
       "      <td>10.142</td>\n",
       "      <td>20.786</td>\n",
       "      <td>2013</td>\n",
       "    </tr>\n",
       "    <tr>\n",
       "      <th>4</th>\n",
       "      <td>5</td>\n",
       "      <td>14.414</td>\n",
       "      <td>22.097</td>\n",
       "      <td>2013</td>\n",
       "    </tr>\n",
       "  </tbody>\n",
       "</table>\n",
       "</div>"
      ],
      "text/plain": [
       "   PPNR  Congruent  Incongruent  Year\n",
       "0     1     21.871       21.974  2013\n",
       "1     2     22.820       25.116  2013\n",
       "2     3     14.810       18.500  2013\n",
       "3     4     10.142       20.786  2013\n",
       "4     5     14.414       22.097  2013"
      ]
     },
     "execution_count": 17,
     "metadata": {},
     "output_type": "execute_result"
    }
   ],
   "source": [
    "# Load the dataset from a CSV file\n",
    "df = pd.read_csv('../data/stroop.csv', delim_whitespace=True)\n",
    "\n",
    "# Show the first few rows of the dataset to verify it's loaded correctly\n",
    "df.head()"
   ]
  },
  {
   "cell_type": "markdown",
   "id": "be005e22",
   "metadata": {},
   "source": [
    "2. Assess descriptive statistics in order to get an understanding of average reaction time for the conditions, and look at the mean difference between the two conditions. \n"
   ]
  },
  {
   "cell_type": "code",
   "execution_count": 19,
   "id": "c697af0c",
   "metadata": {},
   "outputs": [
    {
     "name": "stdout",
     "output_type": "stream",
     "text": [
      "Mean Congruent RT: 15.101938931297708\n",
      "Mean Incongruent RT: 23.004725190839697\n"
     ]
    }
   ],
   "source": [
    "print(\"Mean Congruent RT:\", df['Congruent'].mean())\n",
    "print(\"Mean Incongruent RT:\", df['Incongruent'].mean())"
   ]
  },
  {
   "cell_type": "code",
   "execution_count": 20,
   "id": "923251f9",
   "metadata": {},
   "outputs": [
    {
     "name": "stdout",
     "output_type": "stream",
     "text": [
      "Mean RT Difference (Incongruent - Congruent): 7.902786259541985\n"
     ]
    }
   ],
   "source": [
    "# Print the mean difference\n",
    "print(\"Mean RT Difference (Incongruent - Congruent):\", \n",
    "      (df['Incongruent'] - df['Congruent']).mean())"
   ]
  },
  {
   "cell_type": "markdown",
   "id": "486386d5",
   "metadata": {},
   "source": [
    "3. Visualising Reaction Time Distributions"
   ]
  },
  {
   "cell_type": "code",
   "execution_count": 21,
   "id": "6b3d87fe",
   "metadata": {},
   "outputs": [
    {
     "data": {
      "image/png": "[encoded data removed]",
      "text/plain": [
       "<Figure size 1000x500 with 1 Axes>"
      ]
     },
     "metadata": {},
     "output_type": "display_data"
    }
   ],
   "source": [
    "# Create overlapping histograms to visualize the RT distribution for each condition\n",
    "plt.figure(figsize=(10, 5))\n",
    "sns.histplot(df['Congruent'], kde=True, color='green', label='Congruent')\n",
    "sns.histplot(df['Incongruent'], kde=True, color='red', label='Incongruent')\n",
    "plt.title('Reaction Time Distribution by Condition')\n",
    "plt.xlabel('Reaction Time (seconds)')\n",
    "plt.legend()\n",
    "plt.savefig('../figures/rt_distributions.png')  # Save figure for report\n",
    "plt.show()"
   ]
  },
  {
   "cell_type": "markdown",
   "id": "eccf7b42",
   "metadata": {},
   "source": [
    " Outcome: Reaction times are on average higher in the incongruent condition, and the KDE curves show roughly normal distribution. "
   ]
  },
  {
   "cell_type": "markdown",
   "id": "3111ca1c",
   "metadata": {},
   "source": [
    "4. Paired Sample T-Test (to statistically validate the comparison between reaction times)"
   ]
  },
  {
   "cell_type": "code",
   "execution_count": 25,
   "id": "102eff65",
   "metadata": {},
   "outputs": [],
   "source": [
    "#Use stats ttest function (ttest_rel), define levels of independent variables \n",
    "t_stat, p_val = stats.ttest_rel(df['Incongruent'], df['Congruent'])"
   ]
  },
  {
   "cell_type": "code",
   "execution_count": null,
   "id": "a8c61870",
   "metadata": {},
   "outputs": [
    {
     "name": "stdout",
     "output_type": "stream",
     "text": [
      "Paired t-test result: t = 18.035, p = 0.000\n"
     ]
    }
   ],
   "source": [
    "# Output the result (statistical difference between dependent vars)\n",
    "print(f\"Paired t-test result: t = {t_stat:.3f}, p = {p_val:.3f}\")"
   ]
  },
  {
   "cell_type": "markdown",
   "id": "6064111f",
   "metadata": {},
   "source": [
    "p = 0.000 suggest significant difference between conditions, and that it is not due to chance "
   ]
  },
  {
   "cell_type": "markdown",
   "id": "99e041c7",
   "metadata": {},
   "source": [
    "5. Compute and print Cohen's D (to quantify the size of the difference in a standardised way- to interpret practical significance, beyond just statistical significance by using standard deviation to show effect size- i.e. shows the magnitude of effect in a study)"
   ]
  },
  {
   "cell_type": "code",
   "execution_count": 28,
   "id": "df56f448",
   "metadata": {},
   "outputs": [],
   "source": [
    "# Define a function to calculate Cohen's d for paired samples\n",
    "def cohens_d(x, y):\n",
    "    diff = x - y\n",
    "    return diff.mean() / diff.std(ddof=1)"
   ]
  },
  {
   "cell_type": "code",
   "execution_count": 29,
   "id": "6609aa11",
   "metadata": {},
   "outputs": [
    {
     "name": "stdout",
     "output_type": "stream",
     "text": [
      "Cohen's d: 1.576\n"
     ]
    }
   ],
   "source": [
    "# Compute and print Cohen's d\n",
    "d = cohens_d(df['Incongruent'], df['Congruent'])\n",
    "print(f\"Cohen's d: {d:.3f}\")"
   ]
  },
  {
   "cell_type": "markdown",
   "id": "6d35276b",
   "metadata": {},
   "source": [
    "This shows a large effect size meaning the difference between conditions is not just statistically significant, it is also practically meaningful (i.e. the effect is strong and noticeable) "
   ]
  },
  {
   "cell_type": "markdown",
   "id": "01472ff0",
   "metadata": {},
   "source": [
    "### Discussion\n",
    "\n",
    "The results show that participants took significantly longer to respond to the incongruent condition compared to the congruent condition (p< 0.0001), with a large effect size (Cohen's d > 0.8). \n",
    "\n",
    "This supports the Stroop effect, a phenomenen known to impact response time due in conditions where incongruent words and colours are shown together. \n",
    "\n",
    "This study demonsrates how behavioural data can be used to explore underlying cognitive processes like attentional control and executive function. \n",
    "\n",
    "While the results clearly demonstrate the Stroop Effect, several limitations to the current experiment should be acknowledged. The use of self-reporting for reaction times introduces the possibility for measurement error, rounding innaccuracies or inconsistent timing methods. Additionally the data was collected in an uncontrolled online environment, introducing the possibility of confounding factors between participants such as distractions, screen size or input device. The sample size and known demographics (participants were psychology students) of the current dataset limits the generalizability of the findings. The unknown demographic sample information, such as gender and age, prevent analysis of how differences may influence performance. Order effect may also be present in the current experiment since there was no counterbalancing of conditions. If all participants completed conditions in the same order, order effects such as practice of fatigue may have impacted the results. \n",
    "\n",
    "Despite these limitations, the dataset is a valuable, open source tool which allows demonstration of a core concept of cognitive psychology, and personal use to demonstrate statistical analysis by effectively illustrating the Stroop Effect. \n",
    "\n"
   ]
  },
  {
   "cell_type": "markdown",
   "id": "c18cb90e",
   "metadata": {},
   "source": []
  }
 ],
 "metadata": {
  "kernelspec": {
   "display_name": "Python 3",
   "language": "python",
   "name": "python3"
  },
  "language_info": {
   "codemirror_mode": {
    "name": "ipython",
    "version": 3
   },
   "file_extension": ".py",
   "mimetype": "text/x-python",
   "name": "python",
   "nbconvert_exporter": "python",
   "pygments_lexer": "ipython3",
   "version": "3.12.3"
  }
 },
 "nbformat": 4,
 "nbformat_minor": 5
}
