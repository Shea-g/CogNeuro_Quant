{
 "cells": [
  {
   "cell_type": "markdown",
   "id": "1f0925c0",
   "metadata": {},
   "source": [
    "# Classifying Emotions with Brainwaves\n",
    "\n",
    "## What is this project?\n",
    "\n",
    "This notebook shows how we can use brainwave data (EEG) to guess what kind of emotion someone is feeling — like happy, sad, calm, or angry — using machine learning.\n",
    "\n",
    "## What is EEG?\n",
    "\n",
    "EEG stands for **Electroencephalography**. It’s a way to measure the tiny electrical signals our brains make. These signals change depending on how we're feeling or what we’re doing.\n",
    "\n",
    "### EEG \"bands\" — different types of brain signals:\n",
    "- **Delta**: slowest waves (when you’re deeply asleep)\n",
    "- **Theta**: relaxed or meditative state\n",
    "- **Alpha**: calm and peaceful (but awake)\n",
    "- **Beta**: thinking, alert, active\n",
    "- **Gamma**: learning or processing\n",
    "\n",
    "We look at the power of each wave (like how strong each one is) and use those as features in machine learning.\n",
    "\n",
    "---\n",
    "\n",
    "## About the Dataset\n",
    "\n",
    "**Source**: [Kaggle: EEG Brainwave Dataset - Feeling Emotions](https://www.kaggle.com/datasets/birdy654/eeg-brainwave-dataset-feeling-emotions)\n",
    "\n",
    "- The data comes from **music listening sessions**. People listened to songs and reported how they felt.\n",
    "- Each row in the dataset shows **brainwave readings** from that session.\n",
    "- The feelings (called \"labels\") are: **happy**, **sad**, **angry**, and **calm**.\n",
    "\n",
    "### Who are the people in the dataset?\n",
    "\n",
    "The original Kaggle page doesn't give detailed personal info (like age or gender), but it mentions:\n",
    "- EEG signals were collected from **participants listening to music**.\n",
    "- The EEG device used is called **EMOTIV Epoc+** (a wearable headset).\n",
    "- There are over **10,000 rows** in the dataset — each from a 10-second window of brain activity.\n"
   ]
  },
  {
   "cell_type": "markdown",
   "id": "2f3f48f3",
   "metadata": {},
   "source": []
  },
  {
   "cell_type": "code",
   "execution_count": 5,
   "id": "533b827d",
   "metadata": {},
   "outputs": [],
   "source": [
    "# Load libraries for data and plotting\n",
    "import sys\n",
    "import pandas as pd\n",
    "import matplotlib.pyplot as plt\n",
    "import seaborn as sns\n",
    "\n",
    "# Add the scripts/ folder to the path for use of custom funcs\n",
    "sys.path.append(\"../scripts\")\n",
    "\n",
    "# Import functions from the scripts in scripts folder\n",
    "from preprocess import load_data, preprocess_data\n",
    "from train_model import split_data, train_random_forest, evaluate_model, plot_confusion_matrix, plot_feature_importance\n"
   ]
  },
  {
   "cell_type": "code",
   "execution_count": 8,
   "id": "12befe2b",
   "metadata": {},
   "outputs": [
    {
     "name": "stdout",
     "output_type": "stream",
     "text": [
      "Here are the first few rows of the brainwave dataset:\n",
      "   # mean_0_a  mean_1_a  mean_2_a  mean_3_a  mean_4_a  mean_d_0_a  mean_d_1_a  \\\n",
      "0        4.62      30.3    -356.0      15.6      26.3       1.070       0.411   \n",
      "1       28.80      33.1      32.0      25.8      22.8       6.550       1.680   \n",
      "2        8.90      29.4    -416.0      16.7      23.7      79.900       3.360   \n",
      "3       14.90      31.6    -143.0      19.8      24.3      -0.584      -0.284   \n",
      "4       28.30      31.3      45.2      27.3      24.5      34.800      -5.790   \n",
      "\n",
      "   mean_d_2_a  mean_d_3_a  mean_d_4_a  ...  fft_741_b  fft_742_b  fft_743_b  \\\n",
      "0      -15.70        2.06        3.15  ...       23.5       20.3       20.3   \n",
      "1        2.88        3.83       -4.82  ...      -23.3      -21.8      -21.8   \n",
      "2       90.20       89.90        2.03  ...      462.0     -233.0     -233.0   \n",
      "3        8.82        2.30       -1.97  ...      299.0     -243.0     -243.0   \n",
      "4        3.06       41.40        5.52  ...       12.0       38.1       38.1   \n",
      "\n",
      "   fft_744_b  fft_745_b  fft_746_b  fft_747_b  fft_748_b  fft_749_b     label  \n",
      "0       23.5     -215.0     280.00    -162.00    -162.00     280.00  NEGATIVE  \n",
      "1      -23.3      182.0       2.57     -31.60     -31.60       2.57   NEUTRAL  \n",
      "2      462.0     -267.0     281.00    -148.00    -148.00     281.00  POSITIVE  \n",
      "3      299.0      132.0     -12.40       9.53       9.53     -12.40  POSITIVE  \n",
      "4       12.0      119.0     -17.60      23.90      23.90     -17.60   NEUTRAL  \n",
      "\n",
      "[5 rows x 2549 columns]\n",
      "\n",
      "There are 2132 samples (rows)\n",
      "These are the types of emotions (labels): ['NEGATIVE' 'NEUTRAL' 'POSITIVE']\n"
     ]
    }
   ],
   "source": [
    "# Load the brainwave data from a CSV file\n",
    "file_path = '../data/emotions.csv'\n",
    "df = load_data(file_path)\n",
    "\n",
    "# Look at the first few rows\n",
    "print(\"Here are the first few rows of the brainwave dataset:\")\n",
    "print(df.head())\n",
    "\n",
    "# Check how many samples and what emotions there are\n",
    "print(\"\\nThere are\", df.shape[0], \"samples (rows)\")\n",
    "print(\"These are the types of emotions (labels):\", df['label'].unique())\n"
   ]
  },
  {
   "cell_type": "code",
   "execution_count": 9,
   "id": "2ebcac7c",
   "metadata": {},
   "outputs": [],
   "source": [
    "# This step separates the brainwave features from the emotion labels\n",
    "# It also scales the brainwave values so they're easier for the model to learn from\n",
    "\n",
    "X, y = preprocess_data(df)\n"
   ]
  },
  {
   "cell_type": "code",
   "execution_count": 10,
   "id": "e1224050",
   "metadata": {},
   "outputs": [],
   "source": [
    "# Split the data: 80% for training, 20% for testing\n",
    "X_train, X_test, y_train, y_test = split_data(X, y)\n"
   ]
  },
  {
   "cell_type": "code",
   "execution_count": 11,
   "id": "99becc71",
   "metadata": {},
   "outputs": [],
   "source": [
    "# Train a Random Forest model — a group of decision trees that vote together!\n",
    "clf = train_random_forest(X_train, y_train)\n"
   ]
  },
  {
   "cell_type": "markdown",
   "id": "d9ea0221",
   "metadata": {},
   "source": [
    "### What is the random forest model? \n",
    "\n",
    "A decision tree is like a flowchart that asks yes/no questions about features (like “Is alpha wave power > 5?”). A random forest builds many different trees, each looking at random parts of the data and features.\n",
    "That way, when it's time to classify a new brainwave sample, all trees \"vote\" for an emotion, and the most common vote wins. This method reduces mistakes from any one tree and works well for complex data."
   ]
  },
  {
   "cell_type": "code",
   "execution_count": 12,
   "id": "d1c7d301",
   "metadata": {},
   "outputs": [
    {
     "name": "stdout",
     "output_type": "stream",
     "text": [
      "Accuracy: 0.9882903981264637\n",
      "\n",
      "Classification Report:\n",
      "               precision    recall  f1-score   support\n",
      "\n",
      "    NEGATIVE       0.97      0.99      0.98       143\n",
      "     NEUTRAL       1.00      1.00      1.00       148\n",
      "    POSITIVE       0.99      0.97      0.98       136\n",
      "\n",
      "    accuracy                           0.99       427\n",
      "   macro avg       0.99      0.99      0.99       427\n",
      "weighted avg       0.99      0.99      0.99       427\n",
      "\n"
     ]
    }
   ],
   "source": [
    "# Use the trained Random Forest to predict emotions from the test data\n",
    "y_pred = evaluate_model(clf, X_test, y_test)\n"
   ]
  },
  {
   "cell_type": "markdown",
   "id": "5e377dc6",
   "metadata": {},
   "source": [
    "### Model Performance Summary\n",
    "\n",
    "- The model achieved **99% accuracy**, meaning it correctly predicted the emotion in 99 out of 100 cases.\n",
    "- **Precision** shows how often the model was correct when it predicted each emotion:\n",
    "  - NEGATIVE: 97%\n",
    "  - NEUTRAL: 100%\n",
    "  - POSITIVE: 99%\n",
    "- **Recall** shows how well the model found all true examples of each emotion:\n",
    "  - NEGATIVE: 99%\n",
    "  - NEUTRAL: 100%\n",
    "  - POSITIVE: 97%\n",
    "- The **F1-score** (balance of precision and recall) is very high (around 98-100%), indicating excellent overall performance.\n",
    "- The model performs well across all three emotions with minimal mistakes.\n",
    "\n",
    "### What is the F1 Score?\n",
    "\n",
    "The **F1 score** is a way to measure how well a model balances two important things:\n",
    "\n",
    "- **Precision**: How many of the model's positive predictions were actually correct.\n",
    "- **Recall**: How many of the actual positive cases the model was able to find.\n",
    "\n",
    "The F1 score combines precision and recall into a single number, using their harmonic mean. It gives a balanced measure, especially useful when you want to consider both false positives and false negatives.\n",
    "\n",
    "- An F1 score close to 1 (or 100%) means the model is doing a great job finding positive cases *and* making accurate predictions.\n",
    "- If the F1 score is low, it means either precision or recall (or both) are poor.\n",
    "\n",
    "In simple terms:  \n",
    "**F1 score = High only if both precision and recall are high!**\n"
   ]
  },
  {
   "cell_type": "code",
   "execution_count": 18,
   "id": "438e6153",
   "metadata": {},
   "outputs": [
    {
     "data": {
      "image/png": "[encoded data removed]",
      "text/plain": [
       "<Figure size 600x500 with 2 Axes>"
      ]
     },
     "metadata": {},
     "output_type": "display_data"
    }
   ],
   "source": [
    "import matplotlib.pyplot as plt\n",
    "from sklearn.metrics import confusion_matrix\n",
    "\n",
    "# Define the emotion labels (in the order your model predicts them)\n",
    "labels = ['NEGATIVE', 'NEUTRAL', 'POSITIVE']\n",
    "\n",
    "# Calculate the confusion matrix:\n",
    "# This compares the true labels (y_test) with the model's predictions (y_pred)\n",
    "cm = confusion_matrix(y_test, y_pred, labels=labels)\n",
    "\n",
    "# Now, let's visualize the confusion matrix as a heatmap\n",
    "plt.figure(figsize=(6,5))\n",
    "\n",
    "# sns.heatmap will create a color-coded table\n",
    "# annot=True adds the actual numbers in each box\n",
    "# fmt='d' ensures numbers are formatted as integers\n",
    "sns.heatmap(cm, annot=True, fmt='d', cmap='Blues', xticklabels=labels, yticklabels=labels)\n",
    "\n",
    "# Add labels to the plot for clarity\n",
    "plt.xlabel('Predicted Emotion')\n",
    "plt.ylabel('Actual Emotion')\n",
    "plt.title('Confusion Matrix')\n",
    "\n",
    "# Show the plot\n",
    "plt.show()\n"
   ]
  },
  {
   "cell_type": "markdown",
   "id": "7a6ad3c6",
   "metadata": {},
   "source": [
    "### Interpretation of the Confusion Matrix\n",
    "\n",
    "The confusion matrix for the model's predictions is:\n",
    "\n",
    "|                  | Predicted NEGATIVE | Predicted NEUTRAL | Predicted POSITIVE |\n",
    "|------------------|--------------------|-------------------|--------------------|\n",
    "| **Actual NEGATIVE** | 142                | 0                 | 1                  |\n",
    "| **Actual NEUTRAL**  | 0                  | 148               | 0                  |\n",
    "| **Actual POSITIVE** | 4                  | 0                 | 132                |\n",
    "\n",
    "**What this means:**\n",
    "\n",
    "- **Actual NEGATIVE:**  \n",
    "  - 142 samples were correctly predicted as NEGATIVE.  \n",
    "  - 1 sample was incorrectly predicted as POSITIVE.  \n",
    "  - No samples were misclassified as NEUTRAL.\n",
    "\n",
    "- **Actual NEUTRAL:**  \n",
    "  - All 148 NEUTRAL samples were correctly predicted.  \n",
    "  - No misclassifications for this category.\n",
    "\n",
    "- **Actual POSITIVE:**  \n",
    "  - 132 samples were correctly predicted as POSITIVE.  \n",
    "  - 4 samples were misclassified as NEGATIVE.  \n",
    "  - No samples were misclassified as NEUTRAL.\n",
    "\n",
    "**Summary:**\n",
    "\n",
    "- The model performs very well with most samples correctly classified.\n",
    "- The biggest source of error is confusing some POSITIVE samples as NEGATIVE.\n",
    "- NEUTRAL emotions were perfectly classified in this test set.\n",
    "- Overall, this indicates strong model accuracy with minor mistakes mostly between POSITIVE and NEGATIVE classes.\n"
   ]
  },
  {
   "cell_type": "markdown",
   "id": "2ad3ac10",
   "metadata": {},
   "source": [
    "### Discussion and Conclusion\n",
    "\n",
    "The Random Forest model demonstrated excellent performance in classifying emotions from EEG brainwave data. With an overall accuracy of approximately 99%, the model effectively distinguished between NEGATIVE, NEUTRAL, and POSITIVE emotional states.\n",
    "\n",
    "The confusion matrix highlights that most misclassifications occurred between POSITIVE and NEGATIVE emotions, which may share overlapping features in the EEG signals. The NEUTRAL class was perfectly identified, indicating distinct patterns for this emotional state.\n",
    "\n",
    "These results suggest that EEG signals contain meaningful information for emotion recognition and that machine learning models like Random Forest can leverage these patterns with high accuracy. However, further work could explore more advanced models or feature engineering to reduce confusion between similar emotional states.\n",
    "\n",
    "In real-world applications, such models could support affective computing, mental health monitoring, and brain-computer interfaces by providing reliable emotion detection from EEG data.\n"
   ]
  },
  {
   "cell_type": "code",
   "execution_count": null,
   "id": "96fe0c6f",
   "metadata": {},
   "outputs": [],
   "source": []
  }
 ],
 "metadata": {
  "kernelspec": {
   "display_name": "Python 3",
   "language": "python",
   "name": "python3"
  },
  "language_info": {
   "codemirror_mode": {
    "name": "ipython",
    "version": 3
   },
   "file_extension": ".py",
   "mimetype": "text/x-python",
   "name": "python",
   "nbconvert_exporter": "python",
   "pygments_lexer": "ipython3",
   "version": "3.12.3"
  }
 },
 "nbformat": 4,
 "nbformat_minor": 5
}
